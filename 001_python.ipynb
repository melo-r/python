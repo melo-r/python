{
  "nbformat": 4,
  "nbformat_minor": 0,
  "metadata": {
    "colab": {
      "name": "001_python.ipynb",
      "provenance": []
    },
    "kernelspec": {
      "name": "python3",
      "display_name": "Python 3"
    },
    "language_info": {
      "name": "python"
    }
  },
  "cells": [
    {
      "cell_type": "markdown",
      "metadata": {
        "id": "BTtpAsoG9e3a"
      },
      "source": [
        "**001 Canal python na pratica** https://www.youtube.com/playlist?list=PLfq7aD1Zp5SnB8hbGkUZ_AFZMwShncRyn"
      ]
    },
    {
      "cell_type": "markdown",
      "metadata": {
        "id": "3LgI1YGf99y0"
      },
      "source": [
        "# 01 teste"
      ]
    },
    {
      "cell_type": "code",
      "metadata": {
        "id": "2wjIFq4u9YE4"
      },
      "source": [
        ""
      ],
      "execution_count": null,
      "outputs": []
    },
    {
      "cell_type": "markdown",
      "metadata": {
        "id": "CWnh8IO2-AyJ"
      },
      "source": [
        "# 02 teste"
      ]
    }
  ]
}